{
 "cells": [
  {
   "cell_type": "markdown",
   "metadata": {},
   "source": [
    "![shinhancard](../images/pandas/shinhancard.png)"
   ]
  },
  {
   "cell_type": "markdown",
   "metadata": {},
   "source": [
    "## 카드내역 정리 프로그램 만들어보기 with pandas\n",
    "\n",
    "- 개인 카드거래 내역을 다운로드 받아, 자동으로 \"카테고리\"를 태깅해주는 프로그램을 만들어봅시다.\n",
    "\n",
    "\n",
    "\n",
    "1. 첫번째 월의 카드내역에 \"카테고리\"를 직접 tagging합니다.\n",
    "\n",
    "\n",
    "\n",
    "2. 첫번째 월의 \"카테고리\"를 기준으로, 두번째 월부터 동일 가맹점에서 발생한 거래내역을 같은 \"카테고리\"로 tagging합니다.\n",
    "\n",
    "\n",
    "\n",
    "3. 새롭게 등장한 가맹점의 거래 내역에 경우, 직접 tagging 합니다."
   ]
  },
  {
   "cell_type": "code",
   "execution_count": null,
   "metadata": {},
   "outputs": [],
   "source": []
  }
 ],
 "metadata": {
  "kernelspec": {
   "display_name": "Python 3 (ipykernel)",
   "language": "python",
   "name": "python3"
  },
  "language_info": {
   "codemirror_mode": {
    "name": "ipython",
    "version": 3
   },
   "file_extension": ".py",
   "mimetype": "text/x-python",
   "name": "python",
   "nbconvert_exporter": "python",
   "pygments_lexer": "ipython3",
   "version": "3.10.2"
  }
 },
 "nbformat": 4,
 "nbformat_minor": 2
}
