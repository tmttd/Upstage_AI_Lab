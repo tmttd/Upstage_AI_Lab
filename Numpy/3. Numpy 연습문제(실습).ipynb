{
 "cells": [
  {
   "cell_type": "markdown",
   "metadata": {
    "id": "woDw_tjsi1uu"
   },
   "source": [
    "### 1. Numpy array creation\n",
    "\n",
    "- 주어진 Python List L을 Numpy array로 변환하는 코드를 작성해보세요."
   ]
  },
  {
   "cell_type": "code",
   "execution_count": null,
   "metadata": {},
   "outputs": [],
   "source": [
    "L = [1, 2, 3, 4, 5]"
   ]
  },
  {
   "cell_type": "markdown",
   "metadata": {},
   "source": [
    "### 2. Numpy array creation (2)\n",
    "\n",
    "- 원소가 모두 0이고 크기가 10인 numpy array를 생성해보세요."
   ]
  },
  {
   "cell_type": "code",
   "execution_count": null,
   "metadata": {},
   "outputs": [],
   "source": []
  },
  {
   "cell_type": "markdown",
   "metadata": {},
   "source": [
    "### 3. Numpy array creation (3)\n",
    "\n",
    "- 1부터 1000까지의 모든 정수를 원소로 하는 numpy array를 생성해보세요."
   ]
  },
  {
   "cell_type": "code",
   "execution_count": null,
   "metadata": {},
   "outputs": [],
   "source": []
  },
  {
   "cell_type": "markdown",
   "metadata": {},
   "source": [
    "### 4. Data Types\n",
    "\n",
    "- np.int32와 np.int64의 차이점에 대해 서술해보세요."
   ]
  },
  {
   "cell_type": "code",
   "execution_count": null,
   "metadata": {},
   "outputs": [],
   "source": []
  },
  {
   "cell_type": "markdown",
   "metadata": {},
   "source": [
    "### 5. Indexing\n",
    "\n",
    "- 주어진 2차원 Numpy array를 행렬이라고 생각했을 때, 두번째 행의 세번째 원소를 찾는 코드를 작성해보세요."
   ]
  },
  {
   "cell_type": "code",
   "execution_count": null,
   "metadata": {},
   "outputs": [],
   "source": [
    "arr = np.array([[1, 2, 3],\n",
    "               [4, 5, 6],\n",
    "               [7, 8, 9]])"
   ]
  },
  {
   "cell_type": "markdown",
   "metadata": {},
   "source": [
    "### 6. Fancy Indexing\n",
    "\n",
    "- 다음 주어진 arr2를 행렬이라고 할 때, 주어진 행렬의 첫번째 행과 두번째 열을 출력하는 코드를 작성해보세요."
   ]
  },
  {
   "cell_type": "code",
   "execution_count": null,
   "metadata": {},
   "outputs": [],
   "source": [
    "arr2 = np.array([[10, 9, 8],\n",
    "               [7, 6, 5],\n",
    "               [4, 3, 2]])"
   ]
  },
  {
   "cell_type": "markdown",
   "metadata": {},
   "source": [
    "### 7. Masking\n",
    "\n",
    "- 주어진 arr3에 대해서 30보다 큰 숫자만 뽑는 코드를 작성하세요.\n",
    "(가능하면 masking을 사용하여 해결해보세요)"
   ]
  },
  {
   "cell_type": "code",
   "execution_count": null,
   "metadata": {},
   "outputs": [],
   "source": [
    "arr3 = np.array([30, 4, 550, 9, 112, 10000, 15, 21])"
   ]
  },
  {
   "cell_type": "markdown",
   "metadata": {},
   "source": [
    "### 8. Find Min, Max value\n",
    "\n",
    "- 주어진 arr4에 대하여 최소값과 최대값을 찾아서 출력하는 코드를 작성해보세요."
   ]
  },
  {
   "cell_type": "code",
   "execution_count": null,
   "metadata": {},
   "outputs": [],
   "source": [
    "arr4 = np.array([50, 1110, 1, 230, 3, 40, 517590, -41, -4959])"
   ]
  },
  {
   "cell_type": "markdown",
   "metadata": {},
   "source": [
    "### 9. Find index of min, max value\n",
    "\n",
    "- 주어진 arr5에 대하여 최소값과 최대값에 해당하는 원소의 Index를 찾아서 출력하는 코드를 작성해보세요."
   ]
  },
  {
   "cell_type": "code",
   "execution_count": null,
   "metadata": {},
   "outputs": [],
   "source": [
    "arr5 = np.array([1, 33, 5502, 221, -591, 0, -9, 50491])"
   ]
  },
  {
   "cell_type": "markdown",
   "metadata": {},
   "source": [
    "### 10. Array Concat\n",
    "\n",
    "- 주어진 1차원 Numpy array 3개를 세로로 연결하여, 하나의 행렬을 구성하는 코드를 작성하세요."
   ]
  },
  {
   "cell_type": "code",
   "execution_count": null,
   "metadata": {},
   "outputs": [],
   "source": [
    "arr1 = np.array([1, 2, 3])\n",
    "arr2 = np.array([4, 5, 6])\n",
    "arr3 = np.array([7, 8, 9])\n",
    "\n",
    "### Output ###\n",
    "# mat = array([[1, 2, 3],\n",
    "#            [4, 5, 6],\n",
    "#            [7, 8, 9]])"
   ]
  },
  {
   "cell_type": "markdown",
   "metadata": {},
   "source": [
    "### 11. Vector Operation\n",
    "\n",
    "- 다음 주어진 2개의 벡터 v1, v2에 대하여 두 벡터의 합과 내적값을 구하는 코드를 작성하세요."
   ]
  },
  {
   "cell_type": "code",
   "execution_count": null,
   "metadata": {},
   "outputs": [],
   "source": [
    "v1 = np.array([1, 2, 3])\n",
    "v2 = np.array([4, -1, 2])"
   ]
  },
  {
   "cell_type": "markdown",
   "metadata": {},
   "source": [
    "### 12. Broadcasting\n",
    "\n",
    "- 주어진 numpy array의 모든 원소에 각각 3을 더하는 코드를 작성하세요."
   ]
  },
  {
   "cell_type": "code",
   "execution_count": null,
   "metadata": {},
   "outputs": [],
   "source": [
    "arr = np.array([-1, 0, 1])"
   ]
  },
  {
   "cell_type": "markdown",
   "metadata": {},
   "source": [
    "### 13. Reshaping Array\n",
    "\n",
    "- 이미지 데이터를 처리할 때, numpy array를 통해서 이미지 데이터를 표현하면 \"가로 pixel X 세로 pixel\" 크기의 numpy array가 됩니다.\n",
    "\n",
    "- 5x5 크기를 가지는 이미지가 아래 numpy array로 표현되었다고 했을 때, 이를 1차원 벡터로 변환하는 코드를 작성해보세요."
   ]
  },
  {
   "cell_type": "code",
   "execution_count": 6,
   "metadata": {},
   "outputs": [
    {
     "data": {
      "text/plain": [
       "array([ 1,  2,  3,  4,  5,  6,  7,  8,  9, 10, 11, 12, 13, 14, 15, 16, 17,\n",
       "       18, 19, 20, 21, 22, 23, 24, 25])"
      ]
     },
     "execution_count": 6,
     "metadata": {},
     "output_type": "execute_result"
    }
   ],
   "source": [
    "import numpy as np\n",
    "\n",
    "imgExample = np.array([[1, 2, 3, 4, 5],\n",
    "                      [6, 7, 8, 9, 10],\n",
    "                      [11,12,13,14,15],\n",
    "                      [16,17,18,19,20],\n",
    "                      [21,22,23,24,25]])\n",
    "\n",
    "imgExample.reshape(imgExample.shape[0] * imgExample.shape[1], )\n",
    "imgExample.reshape(-1, )"
   ]
  },
  {
   "cell_type": "markdown",
   "metadata": {},
   "source": [
    "### 14. Linear Algebra\n",
    "\n",
    "- 다음 주어진 numpy array를 벡터라고 할 때, 벡터의 L2 norm을 계산하는 코드를 작성하세요.\n",
    "\n",
    "Hint : 구글에 \"numpy array l2 norm\" 을 검색해보세요."
   ]
  },
  {
   "cell_type": "code",
   "execution_count": 10,
   "metadata": {},
   "outputs": [
    {
     "data": {
      "text/plain": [
       "100.50373127401788"
      ]
     },
     "execution_count": 10,
     "metadata": {},
     "output_type": "execute_result"
    }
   ],
   "source": [
    "v = np.array([1, 10, 100])\n",
    "#np.linalg.norm(v) # l2 norm\n",
    "np.sqrt(np.sum(np.square(v)))"
   ]
  },
  {
   "cell_type": "markdown",
   "metadata": {},
   "source": [
    "### 15. Sorting (1)\n",
    "\n",
    "- 다음 행렬 형태로 주어진 numpy array를 \"행\"별로 오름차순 정렬하는 코드를 작성해보세요."
   ]
  },
  {
   "cell_type": "code",
   "execution_count": null,
   "metadata": {},
   "outputs": [],
   "source": [
    "mat = np.array([[1, -1, 3],\n",
    "                [4, 3, -6],\n",
    "                [0, 11, 9]])"
   ]
  },
  {
   "cell_type": "markdown",
   "metadata": {},
   "source": [
    "### 16. Sorting (2)\n",
    "\n",
    "- 다음 행렬 형태로 주어진 numpy array를 \"열\"별로 내림차순 정렬하는 코드를 작성해보세요."
   ]
  },
  {
   "cell_type": "code",
   "execution_count": null,
   "metadata": {},
   "outputs": [],
   "source": [
    "mat = np.array([[1, -1, 3],\n",
    "                [4, 3, -6],\n",
    "                [0, 11, 9]])"
   ]
  },
  {
   "cell_type": "markdown",
   "metadata": {},
   "source": [
    "### 17. Sorting Index\n",
    "\n",
    "- 다음 주어진 ids, heights는 각 index마다 같은 회원의 회원번호와 키의 값을 저장하고 있는 numpy array입니다.\n",
    "\n",
    "- 키가 가장 큰 회원의 회원번호를 출력하는 코드를 작성해보세요."
   ]
  },
  {
   "cell_type": "code",
   "execution_count": null,
   "metadata": {},
   "outputs": [],
   "source": [
    "ids = [1002, 1100, 5021, 3758, 9927, 2114]\n",
    "heights = [154.9, 171.3, 190.2, 185.0, 169.7, 175.5]"
   ]
  }
 ],
 "metadata": {
  "colab": {
   "authorship_tag": "ABX9TyPeHiPUkV4YaywoZNm2ZLXs",
   "collapsed_sections": [],
   "name": "2. Numpy 연습문제.ipynb",
   "provenance": []
  },
  "kernelspec": {
   "display_name": "Python 3 (ipykernel)",
   "language": "python",
   "name": "python3"
  },
  "language_info": {
   "codemirror_mode": {
    "name": "ipython",
    "version": 3
   },
   "file_extension": ".py",
   "mimetype": "text/x-python",
   "name": "python",
   "nbconvert_exporter": "python",
   "pygments_lexer": "ipython3",
   "version": "3.10.2"
  }
 },
 "nbformat": 4,
 "nbformat_minor": 1
}
