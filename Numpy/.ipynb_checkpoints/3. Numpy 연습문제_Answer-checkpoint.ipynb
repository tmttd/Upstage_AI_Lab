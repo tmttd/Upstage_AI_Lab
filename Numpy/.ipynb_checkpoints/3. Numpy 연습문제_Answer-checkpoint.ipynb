{
 "cells": [
  {
   "cell_type": "markdown",
   "metadata": {
    "id": "woDw_tjsi1uu"
   },
   "source": [
    "### 1. Numpy array creation\n",
    "\n",
    "- 주어진 Python List L을 Numpy array로 변환하는 코드를 작성해보세요."
   ]
  },
  {
   "cell_type": "code",
   "execution_count": 1,
   "metadata": {
    "colab": {
     "base_uri": "https://localhost:8080/"
    },
    "executionInfo": {
     "elapsed": 700,
     "status": "ok",
     "timestamp": 1614846447352,
     "user": {
      "displayName": "김용담",
      "photoUrl": "",
      "userId": "13484526522347025246"
     },
     "user_tz": -540
    },
    "id": "BnOaa5C0oJxC",
    "outputId": "83ed946a-b147-457a-91b5-80291624bd19"
   },
   "outputs": [
    {
     "data": {
      "text/plain": [
       "array([1, 2, 3, 4, 5])"
      ]
     },
     "execution_count": 1,
     "metadata": {},
     "output_type": "execute_result"
    }
   ],
   "source": [
    "import numpy as np\n",
    "\n",
    "L = [1, 2, 3, 4, 5]\n",
    "np.array(L)"
   ]
  },
  {
   "cell_type": "markdown",
   "metadata": {
    "id": "CW7v8CP5oJxD"
   },
   "source": [
    "### 2. Numpy array creation (2)\n",
    "\n",
    "- 원소가 모두 0이고 크기가 10인 numpy array를 생성해보세요."
   ]
  },
  {
   "cell_type": "code",
   "execution_count": 2,
   "metadata": {
    "colab": {
     "base_uri": "https://localhost:8080/"
    },
    "executionInfo": {
     "elapsed": 685,
     "status": "ok",
     "timestamp": 1614846447353,
     "user": {
      "displayName": "김용담",
      "photoUrl": "",
      "userId": "13484526522347025246"
     },
     "user_tz": -540
    },
    "id": "Li2lt4yUoJxE",
    "outputId": "82f82514-5a8c-47ef-c909-7e1f2d31807f"
   },
   "outputs": [
    {
     "data": {
      "text/plain": [
       "array([0., 0., 0., 0., 0., 0., 0., 0., 0., 0.])"
      ]
     },
     "execution_count": 2,
     "metadata": {},
     "output_type": "execute_result"
    }
   ],
   "source": [
    "np.zeros(10)"
   ]
  },
  {
   "cell_type": "markdown",
   "metadata": {
    "id": "OZXPR2sHoJxE"
   },
   "source": [
    "### 3. Numpy array creation (3)\n",
    "\n",
    "- 1부터 1000까지의 모든 정수를 원소로 하는 numpy array를 생성해보세요."
   ]
  },
  {
   "cell_type": "code",
   "execution_count": 3,
   "metadata": {
    "colab": {
     "base_uri": "https://localhost:8080/"
    },
    "executionInfo": {
     "elapsed": 673,
     "status": "ok",
     "timestamp": 1614846447354,
     "user": {
      "displayName": "김용담",
      "photoUrl": "",
      "userId": "13484526522347025246"
     },
     "user_tz": -540
    },
    "id": "j5lHOa4ooJxE",
    "outputId": "c1876212-7ba7-4880-fdab-87db43068356"
   },
   "outputs": [
    {
     "data": {
      "text/plain": [
       "array([   1,    2,    3,    4,    5,    6,    7,    8,    9,   10,   11,\n",
       "         12,   13,   14,   15,   16,   17,   18,   19,   20,   21,   22,\n",
       "         23,   24,   25,   26,   27,   28,   29,   30,   31,   32,   33,\n",
       "         34,   35,   36,   37,   38,   39,   40,   41,   42,   43,   44,\n",
       "         45,   46,   47,   48,   49,   50,   51,   52,   53,   54,   55,\n",
       "         56,   57,   58,   59,   60,   61,   62,   63,   64,   65,   66,\n",
       "         67,   68,   69,   70,   71,   72,   73,   74,   75,   76,   77,\n",
       "         78,   79,   80,   81,   82,   83,   84,   85,   86,   87,   88,\n",
       "         89,   90,   91,   92,   93,   94,   95,   96,   97,   98,   99,\n",
       "        100,  101,  102,  103,  104,  105,  106,  107,  108,  109,  110,\n",
       "        111,  112,  113,  114,  115,  116,  117,  118,  119,  120,  121,\n",
       "        122,  123,  124,  125,  126,  127,  128,  129,  130,  131,  132,\n",
       "        133,  134,  135,  136,  137,  138,  139,  140,  141,  142,  143,\n",
       "        144,  145,  146,  147,  148,  149,  150,  151,  152,  153,  154,\n",
       "        155,  156,  157,  158,  159,  160,  161,  162,  163,  164,  165,\n",
       "        166,  167,  168,  169,  170,  171,  172,  173,  174,  175,  176,\n",
       "        177,  178,  179,  180,  181,  182,  183,  184,  185,  186,  187,\n",
       "        188,  189,  190,  191,  192,  193,  194,  195,  196,  197,  198,\n",
       "        199,  200,  201,  202,  203,  204,  205,  206,  207,  208,  209,\n",
       "        210,  211,  212,  213,  214,  215,  216,  217,  218,  219,  220,\n",
       "        221,  222,  223,  224,  225,  226,  227,  228,  229,  230,  231,\n",
       "        232,  233,  234,  235,  236,  237,  238,  239,  240,  241,  242,\n",
       "        243,  244,  245,  246,  247,  248,  249,  250,  251,  252,  253,\n",
       "        254,  255,  256,  257,  258,  259,  260,  261,  262,  263,  264,\n",
       "        265,  266,  267,  268,  269,  270,  271,  272,  273,  274,  275,\n",
       "        276,  277,  278,  279,  280,  281,  282,  283,  284,  285,  286,\n",
       "        287,  288,  289,  290,  291,  292,  293,  294,  295,  296,  297,\n",
       "        298,  299,  300,  301,  302,  303,  304,  305,  306,  307,  308,\n",
       "        309,  310,  311,  312,  313,  314,  315,  316,  317,  318,  319,\n",
       "        320,  321,  322,  323,  324,  325,  326,  327,  328,  329,  330,\n",
       "        331,  332,  333,  334,  335,  336,  337,  338,  339,  340,  341,\n",
       "        342,  343,  344,  345,  346,  347,  348,  349,  350,  351,  352,\n",
       "        353,  354,  355,  356,  357,  358,  359,  360,  361,  362,  363,\n",
       "        364,  365,  366,  367,  368,  369,  370,  371,  372,  373,  374,\n",
       "        375,  376,  377,  378,  379,  380,  381,  382,  383,  384,  385,\n",
       "        386,  387,  388,  389,  390,  391,  392,  393,  394,  395,  396,\n",
       "        397,  398,  399,  400,  401,  402,  403,  404,  405,  406,  407,\n",
       "        408,  409,  410,  411,  412,  413,  414,  415,  416,  417,  418,\n",
       "        419,  420,  421,  422,  423,  424,  425,  426,  427,  428,  429,\n",
       "        430,  431,  432,  433,  434,  435,  436,  437,  438,  439,  440,\n",
       "        441,  442,  443,  444,  445,  446,  447,  448,  449,  450,  451,\n",
       "        452,  453,  454,  455,  456,  457,  458,  459,  460,  461,  462,\n",
       "        463,  464,  465,  466,  467,  468,  469,  470,  471,  472,  473,\n",
       "        474,  475,  476,  477,  478,  479,  480,  481,  482,  483,  484,\n",
       "        485,  486,  487,  488,  489,  490,  491,  492,  493,  494,  495,\n",
       "        496,  497,  498,  499,  500,  501,  502,  503,  504,  505,  506,\n",
       "        507,  508,  509,  510,  511,  512,  513,  514,  515,  516,  517,\n",
       "        518,  519,  520,  521,  522,  523,  524,  525,  526,  527,  528,\n",
       "        529,  530,  531,  532,  533,  534,  535,  536,  537,  538,  539,\n",
       "        540,  541,  542,  543,  544,  545,  546,  547,  548,  549,  550,\n",
       "        551,  552,  553,  554,  555,  556,  557,  558,  559,  560,  561,\n",
       "        562,  563,  564,  565,  566,  567,  568,  569,  570,  571,  572,\n",
       "        573,  574,  575,  576,  577,  578,  579,  580,  581,  582,  583,\n",
       "        584,  585,  586,  587,  588,  589,  590,  591,  592,  593,  594,\n",
       "        595,  596,  597,  598,  599,  600,  601,  602,  603,  604,  605,\n",
       "        606,  607,  608,  609,  610,  611,  612,  613,  614,  615,  616,\n",
       "        617,  618,  619,  620,  621,  622,  623,  624,  625,  626,  627,\n",
       "        628,  629,  630,  631,  632,  633,  634,  635,  636,  637,  638,\n",
       "        639,  640,  641,  642,  643,  644,  645,  646,  647,  648,  649,\n",
       "        650,  651,  652,  653,  654,  655,  656,  657,  658,  659,  660,\n",
       "        661,  662,  663,  664,  665,  666,  667,  668,  669,  670,  671,\n",
       "        672,  673,  674,  675,  676,  677,  678,  679,  680,  681,  682,\n",
       "        683,  684,  685,  686,  687,  688,  689,  690,  691,  692,  693,\n",
       "        694,  695,  696,  697,  698,  699,  700,  701,  702,  703,  704,\n",
       "        705,  706,  707,  708,  709,  710,  711,  712,  713,  714,  715,\n",
       "        716,  717,  718,  719,  720,  721,  722,  723,  724,  725,  726,\n",
       "        727,  728,  729,  730,  731,  732,  733,  734,  735,  736,  737,\n",
       "        738,  739,  740,  741,  742,  743,  744,  745,  746,  747,  748,\n",
       "        749,  750,  751,  752,  753,  754,  755,  756,  757,  758,  759,\n",
       "        760,  761,  762,  763,  764,  765,  766,  767,  768,  769,  770,\n",
       "        771,  772,  773,  774,  775,  776,  777,  778,  779,  780,  781,\n",
       "        782,  783,  784,  785,  786,  787,  788,  789,  790,  791,  792,\n",
       "        793,  794,  795,  796,  797,  798,  799,  800,  801,  802,  803,\n",
       "        804,  805,  806,  807,  808,  809,  810,  811,  812,  813,  814,\n",
       "        815,  816,  817,  818,  819,  820,  821,  822,  823,  824,  825,\n",
       "        826,  827,  828,  829,  830,  831,  832,  833,  834,  835,  836,\n",
       "        837,  838,  839,  840,  841,  842,  843,  844,  845,  846,  847,\n",
       "        848,  849,  850,  851,  852,  853,  854,  855,  856,  857,  858,\n",
       "        859,  860,  861,  862,  863,  864,  865,  866,  867,  868,  869,\n",
       "        870,  871,  872,  873,  874,  875,  876,  877,  878,  879,  880,\n",
       "        881,  882,  883,  884,  885,  886,  887,  888,  889,  890,  891,\n",
       "        892,  893,  894,  895,  896,  897,  898,  899,  900,  901,  902,\n",
       "        903,  904,  905,  906,  907,  908,  909,  910,  911,  912,  913,\n",
       "        914,  915,  916,  917,  918,  919,  920,  921,  922,  923,  924,\n",
       "        925,  926,  927,  928,  929,  930,  931,  932,  933,  934,  935,\n",
       "        936,  937,  938,  939,  940,  941,  942,  943,  944,  945,  946,\n",
       "        947,  948,  949,  950,  951,  952,  953,  954,  955,  956,  957,\n",
       "        958,  959,  960,  961,  962,  963,  964,  965,  966,  967,  968,\n",
       "        969,  970,  971,  972,  973,  974,  975,  976,  977,  978,  979,\n",
       "        980,  981,  982,  983,  984,  985,  986,  987,  988,  989,  990,\n",
       "        991,  992,  993,  994,  995,  996,  997,  998,  999, 1000])"
      ]
     },
     "execution_count": 3,
     "metadata": {},
     "output_type": "execute_result"
    }
   ],
   "source": [
    "np.arange(1, 1001)"
   ]
  },
  {
   "cell_type": "markdown",
   "metadata": {
    "id": "G8mqyrMIoJxF"
   },
   "source": [
    "### 4. Data Types\n",
    "\n",
    "- np.int32와 np.int64의 차이점에 대해 서술해보세요."
   ]
  },
  {
   "cell_type": "markdown",
   "metadata": {
    "id": "0AK3Ncr4-Xgb"
   },
   "source": [
    "> 둘 다 integer type인데, 숫자의 표현 범위가 다릅니다. int32는 하나의 원소마다 32bits를 할당하고, int64는 64bits를 할당합니다."
   ]
  },
  {
   "cell_type": "markdown",
   "metadata": {
    "id": "LIZLG5vuoJxF"
   },
   "source": [
    "### 5. Indexing\n",
    "\n",
    "- 주어진 2차원 Numpy array를 행렬이라고 생각했을 때, 두번째 행의 세번째 원소를 찾는 코드를 작성해보세요."
   ]
  },
  {
   "cell_type": "code",
   "execution_count": 4,
   "metadata": {
    "colab": {
     "base_uri": "https://localhost:8080/"
    },
    "executionInfo": {
     "elapsed": 659,
     "status": "ok",
     "timestamp": 1614846447355,
     "user": {
      "displayName": "김용담",
      "photoUrl": "",
      "userId": "13484526522347025246"
     },
     "user_tz": -540
    },
    "id": "gtDNSCw_oJxF",
    "outputId": "cd7a7d79-6ac5-4d8c-c39f-29daaa918572"
   },
   "outputs": [
    {
     "data": {
      "text/plain": [
       "6"
      ]
     },
     "execution_count": 4,
     "metadata": {},
     "output_type": "execute_result"
    }
   ],
   "source": [
    "arr = np.array([[1, 2, 3],\n",
    "                [4, 5, 6],\n",
    "                [7, 8, 9]])\n",
    "\n",
    "arr[1, 2]"
   ]
  },
  {
   "cell_type": "markdown",
   "metadata": {
    "id": "6cnwQVQwoJxG"
   },
   "source": [
    "### 6. Fancy Indexing\n",
    "\n",
    "- 다음 주어진 arr2를 행렬이라고 할 때, 주어진 행렬의 첫번째 행과 두번째 열을 출력하는 코드를 작성해보세요."
   ]
  },
  {
   "cell_type": "code",
   "execution_count": 5,
   "metadata": {
    "colab": {
     "base_uri": "https://localhost:8080/"
    },
    "executionInfo": {
     "elapsed": 647,
     "status": "ok",
     "timestamp": 1614846447356,
     "user": {
      "displayName": "김용담",
      "photoUrl": "",
      "userId": "13484526522347025246"
     },
     "user_tz": -540
    },
    "id": "BPuGeJRIoJxG",
    "outputId": "a511888e-36fa-43c8-f4b9-dec0632722fe"
   },
   "outputs": [
    {
     "name": "stdout",
     "output_type": "stream",
     "text": [
      "[10  9  8]\n",
      "[9 6 3]\n"
     ]
    }
   ],
   "source": [
    "arr2 = np.array([[10, 9, 8],\n",
    "                 [7, 6, 5],\n",
    "                 [4, 3, 2]])\n",
    "print(arr2[0, :])\n",
    "print(arr2[:, 1])"
   ]
  },
  {
   "cell_type": "markdown",
   "metadata": {
    "id": "zfMpJrZHoJxG"
   },
   "source": [
    "### 7. Masking\n",
    "\n",
    "- 주어진 arr3에 대해서 30보다 큰 숫자만 뽑는 코드를 작성하세요.\n",
    "(가능하면 masking을 사용하여 해결해보세요)"
   ]
  },
  {
   "cell_type": "code",
   "execution_count": 6,
   "metadata": {
    "colab": {
     "base_uri": "https://localhost:8080/"
    },
    "executionInfo": {
     "elapsed": 632,
     "status": "ok",
     "timestamp": 1614846447357,
     "user": {
      "displayName": "김용담",
      "photoUrl": "",
      "userId": "13484526522347025246"
     },
     "user_tz": -540
    },
    "id": "xzR-7lnRoJxG",
    "outputId": "0f1e9229-e30e-41dd-99b1-813db1713ea3"
   },
   "outputs": [
    {
     "data": {
      "text/plain": [
       "array([  550,   112, 10000])"
      ]
     },
     "execution_count": 6,
     "metadata": {},
     "output_type": "execute_result"
    }
   ],
   "source": [
    "arr3 = np.array([30, 4, 550, 9, 112, 10000, 15, 21])\n",
    "arr3[arr3 > 30]"
   ]
  },
  {
   "cell_type": "markdown",
   "metadata": {
    "id": "aTx64hRuoJxG"
   },
   "source": [
    "### 8. Find Min, Max value\n",
    "\n",
    "- 주어진 arr4에 대하여 최소값과 최대값을 찾아서 출력하는 코드를 작성해보세요."
   ]
  },
  {
   "cell_type": "code",
   "execution_count": 7,
   "metadata": {
    "colab": {
     "base_uri": "https://localhost:8080/"
    },
    "executionInfo": {
     "elapsed": 885,
     "status": "ok",
     "timestamp": 1614846447620,
     "user": {
      "displayName": "김용담",
      "photoUrl": "",
      "userId": "13484526522347025246"
     },
     "user_tz": -540
    },
    "id": "9uTgwqhRoJxH",
    "outputId": "e8df861b-8a37-478e-cc9f-301a06a04630"
   },
   "outputs": [
    {
     "name": "stdout",
     "output_type": "stream",
     "text": [
      "min value :  -4959\n",
      "max value :  517590\n"
     ]
    }
   ],
   "source": [
    "arr4 = np.array([50, 1110, 1, 230, 3, 40, 517590, -41, -4959])\n",
    "print(\"min value : \", arr4.min())\n",
    "print(\"max value : \", arr4.max())"
   ]
  },
  {
   "cell_type": "markdown",
   "metadata": {
    "id": "hMJTXy7KoJxH"
   },
   "source": [
    "### 9. Find index of min, max value\n",
    "\n",
    "- 주어진 arr5에 대하여 최소값과 최대값에 해당하는 원소의 Index를 찾아서 출력하는 코드를 작성해보세요."
   ]
  },
  {
   "cell_type": "code",
   "execution_count": 8,
   "metadata": {
    "colab": {
     "base_uri": "https://localhost:8080/"
    },
    "executionInfo": {
     "elapsed": 876,
     "status": "ok",
     "timestamp": 1614846447621,
     "user": {
      "displayName": "김용담",
      "photoUrl": "",
      "userId": "13484526522347025246"
     },
     "user_tz": -540
    },
    "id": "ODIdtjlcoJxH",
    "outputId": "3186ce97-4ea2-44eb-f623-e8d099adce52"
   },
   "outputs": [
    {
     "name": "stdout",
     "output_type": "stream",
     "text": [
      "argmin value :  4\n",
      "argmax value :  7\n"
     ]
    }
   ],
   "source": [
    "arr5 = np.array([1, 33, 5502, 221, -591, 0, -9, 50491])\n",
    "print(\"argmin value : \", arr5.argmin())\n",
    "print(\"argmax value : \", arr5.argmax())"
   ]
  },
  {
   "cell_type": "markdown",
   "metadata": {
    "id": "w6Mmr7GioJxH"
   },
   "source": [
    "### 10. Array Concat\n",
    "\n",
    "- 주어진 1차원 Numpy array 3개를 세로로 연결하여, 하나의 행렬을 구성하는 코드를 작성하세요."
   ]
  },
  {
   "cell_type": "code",
   "execution_count": 9,
   "metadata": {
    "colab": {
     "base_uri": "https://localhost:8080/"
    },
    "executionInfo": {
     "elapsed": 868,
     "status": "ok",
     "timestamp": 1614846447622,
     "user": {
      "displayName": "김용담",
      "photoUrl": "",
      "userId": "13484526522347025246"
     },
     "user_tz": -540
    },
    "id": "Bf1AsOVsoJxH",
    "outputId": "404e4e1c-8d83-4c7c-a4c8-67af6f17210c"
   },
   "outputs": [
    {
     "data": {
      "text/plain": [
       "array([[1, 2, 3],\n",
       "       [4, 5, 6],\n",
       "       [7, 8, 9]])"
      ]
     },
     "execution_count": 9,
     "metadata": {},
     "output_type": "execute_result"
    }
   ],
   "source": [
    "arr1 = np.array([1, 2, 3])\n",
    "arr2 = np.array([4, 5, 6])\n",
    "arr3 = np.array([7, 8, 9])\n",
    "\n",
    "np.vstack([arr1, arr2, arr3])\n",
    "### Output ###\n",
    "# mat = array([1, 2, 3],\n",
    "#            [4, 5, 6],\n",
    "#            [7, 8, 9])"
   ]
  },
  {
   "cell_type": "markdown",
   "metadata": {
    "id": "PkPfxEEZoJxH"
   },
   "source": [
    "### 11. Vector Operation\n",
    "\n",
    "- 다음 주어진 2개의 벡터 v1, v2에 대하여 두 벡터의 합과 내적값을 구하는 코드를 작성하세요."
   ]
  },
  {
   "cell_type": "code",
   "execution_count": 10,
   "metadata": {
    "colab": {
     "base_uri": "https://localhost:8080/"
    },
    "executionInfo": {
     "elapsed": 859,
     "status": "ok",
     "timestamp": 1614846447623,
     "user": {
      "displayName": "김용담",
      "photoUrl": "",
      "userId": "13484526522347025246"
     },
     "user_tz": -540
    },
    "id": "T-oU7TNboJxI",
    "outputId": "dd8adb64-e3db-40cd-8c6b-b77ae3614d32"
   },
   "outputs": [
    {
     "name": "stdout",
     "output_type": "stream",
     "text": [
      "[5 1 5]\n",
      "8\n"
     ]
    }
   ],
   "source": [
    "v1 = np.array([1, 2, 3])\n",
    "v2 = np.array([4, -1, 2])\n",
    "print(v1 + v2)\n",
    "print(v1 @ v2)"
   ]
  },
  {
   "cell_type": "markdown",
   "metadata": {
    "id": "6N_BELJYoJxI"
   },
   "source": [
    "### 12. Broadcasting\n",
    "\n",
    "- 주어진 numpy array의 모든 원소에 각각 3을 더하는 코드를 작성하세요."
   ]
  },
  {
   "cell_type": "code",
   "execution_count": 11,
   "metadata": {
    "colab": {
     "base_uri": "https://localhost:8080/"
    },
    "executionInfo": {
     "elapsed": 848,
     "status": "ok",
     "timestamp": 1614846447623,
     "user": {
      "displayName": "김용담",
      "photoUrl": "",
      "userId": "13484526522347025246"
     },
     "user_tz": -540
    },
    "id": "OHFsX5lNoJxI",
    "outputId": "4cc1c28d-ee31-408b-cff9-ef5dcd10eff1"
   },
   "outputs": [
    {
     "data": {
      "text/plain": [
       "array([2, 3, 4])"
      ]
     },
     "execution_count": 11,
     "metadata": {},
     "output_type": "execute_result"
    }
   ],
   "source": [
    "arr = np.array([-1, 0, 1])\n",
    "arr + 3"
   ]
  },
  {
   "cell_type": "markdown",
   "metadata": {
    "id": "bdNbuhCaoJxI"
   },
   "source": [
    "### 13. Reshaping Array\n",
    "\n",
    "- 이미지 데이터를 처리할 때, numpy array를 통해서 이미지 데이터를 표현하면 \"가로 pixel X 세로 pixel\" 크기의 numpy array가 됩니다.\n",
    "\n",
    "- 5x5 크기를 가지는 이미지가 아래 numpy array로 표현되었다고 했을 때, 이를 1차원 벡터로 변환하는 코드를 작성해보세요."
   ]
  },
  {
   "cell_type": "code",
   "execution_count": 12,
   "metadata": {
    "colab": {
     "base_uri": "https://localhost:8080/"
    },
    "executionInfo": {
     "elapsed": 841,
     "status": "ok",
     "timestamp": 1614846447624,
     "user": {
      "displayName": "김용담",
      "photoUrl": "",
      "userId": "13484526522347025246"
     },
     "user_tz": -540
    },
    "id": "E0dzdItIoJxI",
    "outputId": "b3874475-b349-4737-b3c1-deab41f39ea0"
   },
   "outputs": [
    {
     "data": {
      "text/plain": [
       "array([ 1,  2,  3,  4,  5,  6,  7,  8,  9, 10, 11, 12, 13, 14, 15, 16, 17,\n",
       "       18, 19, 20, 21, 22, 23, 24, 25])"
      ]
     },
     "execution_count": 12,
     "metadata": {},
     "output_type": "execute_result"
    }
   ],
   "source": [
    "imgExample = np.array([[1, 2, 3, 4, 5],\n",
    "                       [6, 7, 8, 9, 10],\n",
    "                       [11,12,13,14,15],\n",
    "                       [16,17,18,19,20],\n",
    "                       [21,22,23,24,25]])\n",
    "\n",
    "#imgExample.reshape(-1, 1) # column vector\n",
    "imgExample.flatten() # row vector"
   ]
  },
  {
   "cell_type": "markdown",
   "metadata": {
    "id": "5_f9mhptoJxI"
   },
   "source": [
    "### 14. Linear Algebra\n",
    "\n",
    "- 다음 주어진 numpy array를 벡터라고 할 때, 벡터의 L2 norm을 계산하는 코드를 작성하세요.\n",
    "\n",
    "Hint : 구글에 \"numpy array l2 norm\" 을 검색해보세요."
   ]
  },
  {
   "cell_type": "code",
   "execution_count": 13,
   "metadata": {
    "colab": {
     "base_uri": "https://localhost:8080/"
    },
    "executionInfo": {
     "elapsed": 831,
     "status": "ok",
     "timestamp": 1614846447624,
     "user": {
      "displayName": "김용담",
      "photoUrl": "",
      "userId": "13484526522347025246"
     },
     "user_tz": -540
    },
    "id": "VYlqleZpoJxI",
    "outputId": "dd955030-a4aa-4034-eaf7-cfe1d8c8ef15"
   },
   "outputs": [
    {
     "data": {
      "text/plain": [
       "100.50373127401788"
      ]
     },
     "execution_count": 13,
     "metadata": {},
     "output_type": "execute_result"
    }
   ],
   "source": [
    "v = np.array([1, 10, 100])\n",
    "np.linalg.norm(v)"
   ]
  },
  {
   "cell_type": "markdown",
   "metadata": {
    "id": "vcD53anAoJxI"
   },
   "source": [
    "### 15. Sorting (1)\n",
    "\n",
    "- 다음 행렬 형태로 주어진 numpy array를 \"행\"별로 오름차순 정렬하는 코드를 작성해보세요."
   ]
  },
  {
   "cell_type": "code",
   "execution_count": 14,
   "metadata": {
    "colab": {
     "base_uri": "https://localhost:8080/"
    },
    "executionInfo": {
     "elapsed": 822,
     "status": "ok",
     "timestamp": 1614846447625,
     "user": {
      "displayName": "김용담",
      "photoUrl": "",
      "userId": "13484526522347025246"
     },
     "user_tz": -540
    },
    "id": "CqzSwgg6oJxJ",
    "outputId": "4481a1a3-ced5-4b5a-df4b-79c22f804993"
   },
   "outputs": [
    {
     "data": {
      "text/plain": [
       "array([[-1,  1,  3],\n",
       "       [-6,  3,  4],\n",
       "       [ 0,  9, 11]])"
      ]
     },
     "execution_count": 14,
     "metadata": {},
     "output_type": "execute_result"
    }
   ],
   "source": [
    "mat = np.array([[1, -1, 3],\n",
    "                [4, 3, -6],\n",
    "                [0, 11, 9]])\n",
    "mat.sort()\n",
    "mat"
   ]
  },
  {
   "cell_type": "markdown",
   "metadata": {
    "id": "79CczgtNoJxJ"
   },
   "source": [
    "### 16. Sorting (2)\n",
    "\n",
    "- 다음 행렬 형태로 주어진 numpy array를 \"열\"별로 내림차순 정렬하는 코드를 작성해보세요."
   ]
  },
  {
   "cell_type": "code",
   "execution_count": 15,
   "metadata": {
    "colab": {
     "base_uri": "https://localhost:8080/"
    },
    "executionInfo": {
     "elapsed": 811,
     "status": "ok",
     "timestamp": 1614846447625,
     "user": {
      "displayName": "김용담",
      "photoUrl": "",
      "userId": "13484526522347025246"
     },
     "user_tz": -540
    },
    "id": "uEcb4Z09oJxJ",
    "outputId": "8106b0a8-ed58-4101-ed4f-67a1bb55bb34"
   },
   "outputs": [
    {
     "data": {
      "text/plain": [
       "array([[ 4, 11,  9],\n",
       "       [ 1,  3,  3],\n",
       "       [ 0, -1, -6]])"
      ]
     },
     "execution_count": 15,
     "metadata": {},
     "output_type": "execute_result"
    }
   ],
   "source": [
    "mat = np.array([[1, -1, 3],\n",
    "                [4, 3, -6],\n",
    "                [0, 11, 9]])\n",
    "np.sort(mat, axis=0)[::-1]"
   ]
  },
  {
   "cell_type": "markdown",
   "metadata": {
    "id": "MlSM0LzfoJxJ"
   },
   "source": [
    "### 17. Sorting Index\n",
    "\n",
    "- 다음 주어진 ids, heights는 각 index마다 같은 회원의 회원번호와 키의 값을 저장하고 있는 numpy array입니다.\n",
    "\n",
    "- 회원들 중 키가 큰 순서대로 3명의 회원번호를 출력하는 코드를 작성해보세요."
   ]
  },
  {
   "cell_type": "code",
   "execution_count": 16,
   "metadata": {
    "colab": {
     "base_uri": "https://localhost:8080/"
    },
    "executionInfo": {
     "elapsed": 803,
     "status": "ok",
     "timestamp": 1614846447626,
     "user": {
      "displayName": "김용담",
      "photoUrl": "",
      "userId": "13484526522347025246"
     },
     "user_tz": -540
    },
    "id": "ehW_RsCBoJxJ",
    "outputId": "b47fe557-0689-43d0-bba9-30db46dc216d"
   },
   "outputs": [
    {
     "data": {
      "text/plain": [
       "array([5021, 3758, 2114])"
      ]
     },
     "execution_count": 16,
     "metadata": {},
     "output_type": "execute_result"
    }
   ],
   "source": [
    "ids = np.array([1002, 1100, 5021, 3758, 9927, 2114])\n",
    "heights = np.array([154.9, 171.3, 190.2, 185.0, 169.7, 175.5])\n",
    "candidates = np.argsort(heights)[::-1][:3]\n",
    "ids[candidates]"
   ]
  },
  {
   "cell_type": "code",
   "execution_count": null,
   "metadata": {
    "executionInfo": {
     "elapsed": 797,
     "status": "ok",
     "timestamp": 1614846447627,
     "user": {
      "displayName": "김용담",
      "photoUrl": "",
      "userId": "13484526522347025246"
     },
     "user_tz": -540
    },
    "id": "_xy0VqzuAhwM"
   },
   "outputs": [],
   "source": []
  }
 ],
 "metadata": {
  "colab": {
   "collapsed_sections": [],
   "name": "2. Numpy 연습문제(solution).ipynb",
   "provenance": []
  },
  "kernelspec": {
   "display_name": "Python 3",
   "language": "python",
   "name": "python3"
  },
  "language_info": {
   "codemirror_mode": {
    "name": "ipython",
    "version": 3
   },
   "file_extension": ".py",
   "mimetype": "text/x-python",
   "name": "python",
   "nbconvert_exporter": "python",
   "pygments_lexer": "ipython3",
   "version": "3.8.2"
  }
 },
 "nbformat": 4,
 "nbformat_minor": 1
}
