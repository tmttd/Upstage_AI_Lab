{
 "cells": [
  {
   "cell_type": "markdown",
   "metadata": {
    "id": "XVC6o-cr1O0M"
   },
   "source": [
    "## Instacart data로 구매 패턴 분석해보기\n",
    "\n",
    "[데이터 설명]\n",
    "- 이 데이터셋은 시간에 따른 고객 주문을 설명하는 csv 파일들로 구성되어 있습니다.\n",
    "\n",
    "- 이 데이터는 사용자가 다음 주문에 포함할 제품들을 예측하는 것입니다. 즉, 어떤 물품을 다시 주문할지 예측하는 문제를 풀어야 합니다.\n",
    "\n",
    "- 데이터셋은 익명화되어 있으며 20만 명이 넘는 instacart 사용자의 300만건 이상의 주문들을 포함하고 있습니다.\n",
    "\n",
    "- 각 사용자별로, 4회에서 100회 사이의 주문 데이터가 제공됩니다. 또한 주문이 이루어진 주와 시간, 그리고 주문 간의 상대적인 시간을 제공합니다.\n",
    "\n",
    "- 데이터 파일은 6개로 구성되어 있으며, 각 csv 파일에 대한 설명은 다음과 같습니다.\n",
    "\n",
    "각 csv파일들(customer, product, order, aisle, etc.)은 각자의 unique id를 포함하고 있습니다. 각 파일들의 대한 설명을 csv파일 이름과 column 이름을 읽으면 이해 가능한 수준입니다.\n",
    "\n",
    "[csv별 설명]\n",
    "1. aisle.csv - 아이템 중분류\n",
    "\n",
    "2. department.csv - 아이템 대분류\n",
    "\n",
    "3. orders.csv - 각 주문 내역들에 대한 정보\n",
    "\n",
    "4. order_products__train.csv - 모든 고객의 이전 주문 내용이 포함되어 있습니다. 'reordered' column은 어떤 고객이 과거에 구매여부를 의미합니다. 일부 주문에는 reordered 품목이 없을 수 있습니다. reordered 품목이 없는 주문의 경우 명시적으로 '없음' 값을 예측할 수 있습니다.\n",
    "\n",
    "5. products.csv - 각 아이템들에 대한 정보\n",
    "\n",
    "\n",
    "**이제 위에서 주어진 정보를 기반으로 EDA를 수행하여 아래 10개의 질문에 대한 답변을 출력하는 파이썬 코드를 작성하세요.**"
   ]
  },
  {
   "cell_type": "code",
   "execution_count": null,
   "metadata": {
    "id": "G2oFp41OuGWw"
   },
   "outputs": [],
   "source": [
    "import numpy as np\n",
    "import pandas as pd\n",
    "import matplotlib.pyplot as plt\n",
    "import seaborn as sns"
   ]
  },
  {
   "cell_type": "markdown",
   "metadata": {
    "id": "9JR5YuCd2xoJ"
   },
   "source": [
    "### Q1. instacart-market-basket-analysis 폴더에서 데이터를 모두 불러오세요."
   ]
  },
  {
   "cell_type": "code",
   "execution_count": null,
   "metadata": {
    "id": "-uz5Ck1muGWx"
   },
   "outputs": [],
   "source": [
    "# 데이터를 불러오면 처음 무조건 파악해야하는 것!\n",
    "data_path = ## data_path는 데이터가 있는 폴더의 경로를 의미합니다.\n",
    "aisles = \n",
    "departments = \n",
    "\n",
    "orders = \n",
    "train = \n",
    "products = "
   ]
  },
  {
   "cell_type": "markdown",
   "metadata": {
    "id": "5b0CMipk2-tc"
   },
   "source": [
    "### Q2. 어떤 Product가 가장 많이 reorder가 되었는가?"
   ]
  },
  {
   "cell_type": "code",
   "execution_count": null,
   "metadata": {
    "id": "UKWA5bn4uGWy"
   },
   "outputs": [],
   "source": []
  },
  {
   "cell_type": "markdown",
   "metadata": {
    "id": "f-qh_DRZ6qME"
   },
   "source": [
    "### Q3. 가장 많이 주문된 Product는?"
   ]
  },
  {
   "cell_type": "code",
   "execution_count": null,
   "metadata": {
    "id": "9oCNzHOtuGWy"
   },
   "outputs": [],
   "source": []
  },
  {
   "cell_type": "markdown",
   "metadata": {
    "id": "EOW65bzi6u_g"
   },
   "source": [
    "### Q4. reorder가 가장 많이 일어나는 department는?"
   ]
  },
  {
   "cell_type": "code",
   "execution_count": null,
   "metadata": {
    "id": "4ukQhklouGWz"
   },
   "outputs": [],
   "source": []
  },
  {
   "cell_type": "markdown",
   "metadata": {
    "id": "ZoxczyD767na"
   },
   "source": [
    "### Q5. order를 가장 많이 한 user는?"
   ]
  },
  {
   "cell_type": "code",
   "execution_count": null,
   "metadata": {
    "id": "ejAjgFdcuGWz"
   },
   "outputs": [],
   "source": []
  },
  {
   "cell_type": "markdown",
   "metadata": {
    "id": "PT2wgrEN69v4"
   },
   "source": [
    "### Q6. order가 가장 많이 일어난 요일을 bargraph로 나타내면?"
   ]
  },
  {
   "cell_type": "code",
   "execution_count": null,
   "metadata": {
    "id": "vaAuPxHJuGW0"
   },
   "outputs": [],
   "source": []
  },
  {
   "cell_type": "markdown",
   "metadata": {
    "id": "_qmw57qm7ETM"
   },
   "source": [
    "### Q7. 재구매율이 높은 product top10은?"
   ]
  },
  {
   "cell_type": "code",
   "execution_count": null,
   "metadata": {
    "id": "stFqxej4uGW0"
   },
   "outputs": [],
   "source": []
  },
  {
   "cell_type": "markdown",
   "metadata": {
    "id": "APyDmMrH7JsB"
   },
   "source": [
    "### Q8. 재구매가 가장 많이 일어나는 요일 top3는?"
   ]
  },
  {
   "cell_type": "code",
   "execution_count": null,
   "metadata": {
    "id": "B8Jm-3BXuGW0"
   },
   "outputs": [],
   "source": []
  },
  {
   "cell_type": "markdown",
   "metadata": {
    "id": "g7Qicnwf7Lk2"
   },
   "source": [
    "### Q9. days_since_prior에 따른 reorder 횟수 변화를 lineplot과 barplot으로 나타내면?\n",
    "\n",
    "- x축은 서로 다른 reorder 횟수가 됩니다."
   ]
  },
  {
   "cell_type": "code",
   "execution_count": null,
   "metadata": {
    "id": "T-8CsUO0uGW0"
   },
   "outputs": [],
   "source": []
  },
  {
   "cell_type": "markdown",
   "metadata": {
    "id": "V3clWKTD7h2Z"
   },
   "source": [
    "### Q10. 시간대 변화에 따른 order 물량의 변화량을 lineplot과 barplot을 이용하여 나타내면?\n",
    "\n",
    "- 시간대 변화란 0시부터 23시까지의 시간당 변화를 의미합니다."
   ]
  },
  {
   "cell_type": "code",
   "execution_count": null,
   "metadata": {
    "id": "KfuEXX0MuGW1"
   },
   "outputs": [],
   "source": []
  }
 ],
 "metadata": {
  "anaconda-cloud": {},
  "colab": {
   "provenance": [
    {
     "file_id": "1uISUw_XjynpeXXVL72rcZ0OrOK3y7R4N",
     "timestamp": 1713339848146
    },
    {
     "file_id": "12lNdONho25-qB-X30sFLVr7iYZljQy4p",
     "timestamp": 1713334941631
    }
   ]
  },
  "kernelspec": {
   "display_name": "Python 3 (ipykernel)",
   "language": "python",
   "name": "python3"
  },
  "language_info": {
   "codemirror_mode": {
    "name": "ipython",
    "version": 3
   },
   "file_extension": ".py",
   "mimetype": "text/x-python",
   "name": "python",
   "nbconvert_exporter": "python",
   "pygments_lexer": "ipython3",
   "version": "3.11.7"
  },
  "vscode": {
   "interpreter": {
    "hash": "ec0e73bc9db08b8d89387f8f6c8d25ddb5b98c92e4d4d339c361044cb7be0e6a"
   }
  }
 },
 "nbformat": 4,
 "nbformat_minor": 4
}
